{
  "nbformat": 4,
  "nbformat_minor": 0,
  "metadata": {
    "colab": {
      "name": "xor xnor np.ipynb",
      "version": "0.3.2",
      "provenance": [],
      "collapsed_sections": []
    },
    "kernelspec": {
      "name": "python3",
      "display_name": "Python 3"
    },
    "accelerator": "GPU"
  },
  "cells": [
    {
      "cell_type": "code",
      "metadata": {
        "id": "juyedHl4O8u8",
        "colab_type": "code",
        "colab": {}
      },
      "source": [
        "#Importing the libraries\n",
        "import numpy as np"
      ],
      "execution_count": 0,
      "outputs": []
    },
    {
      "cell_type": "code",
      "metadata": {
        "id": "VQ81q2MxSWQB",
        "colab_type": "code",
        "colab": {}
      },
      "source": [
        "\"\"\"the first and the second row represent the first and second digit of number a and the \n",
        "third and the fourth row represent the first and second digit of number b\"\"\"\n",
        "x = np.array([[0,0,0,0,1],\n",
        "            [0,0,0,1,1],\n",
        "            [0,0,1,0,1],\n",
        "            [0,0,1,1,1],\n",
        "            [0,1,0,0,1],\n",
        "            [0,1,0,1,1],\n",
        "            [0,1,1,0,1],\n",
        "            [0,1,1,1,1],\n",
        "            [1,0,0,0,1],\n",
        "            [1,0,0,1,1],\n",
        "            [1,0,1,0,1],\n",
        "            [1,0,1,1,1],\n",
        "            [1,1,0,0,1],\n",
        "            [1,1,0,1,1],\n",
        "            [1,1,1,0,1],\n",
        "            [1,1,1,1,1]])\n",
        "\n",
        "\n",
        "y = np.array([[0,0],\n",
        "             [0,1],\n",
        "             [1,0],\n",
        "             [1,1],\n",
        "             [0,1],\n",
        "             [0,0],\n",
        "             [1,1],\n",
        "             [1,0],\n",
        "             [1,0],\n",
        "             [1,1],\n",
        "             [0,0],\n",
        "             [0,1],\n",
        "             [1,1],\n",
        "             [1,0],\n",
        "             [0,1],\n",
        "             [0,0]])"
      ],
      "execution_count": 0,
      "outputs": []
    },
    {
      "cell_type": "code",
      "metadata": {
        "id": "A6x48W4ESwVV",
        "colab_type": "code",
        "outputId": "e1dd2f6f-a426-4a91-88bc-ac3d7d7dde3d",
        "colab": {
          "base_uri": "https://localhost:8080/",
          "height": 308
        }
      },
      "source": [
        "x"
      ],
      "execution_count": 0,
      "outputs": [
        {
          "output_type": "execute_result",
          "data": {
            "text/plain": [
              "array([[0, 0, 0, 0, 1],\n",
              "       [0, 0, 0, 1, 1],\n",
              "       [0, 0, 1, 0, 1],\n",
              "       [0, 0, 1, 1, 1],\n",
              "       [0, 1, 0, 0, 1],\n",
              "       [0, 1, 0, 1, 1],\n",
              "       [0, 1, 1, 0, 1],\n",
              "       [0, 1, 1, 1, 1],\n",
              "       [1, 0, 0, 0, 1],\n",
              "       [1, 0, 0, 1, 1],\n",
              "       [1, 0, 1, 0, 1],\n",
              "       [1, 0, 1, 1, 1],\n",
              "       [1, 1, 0, 0, 1],\n",
              "       [1, 1, 0, 1, 1],\n",
              "       [1, 1, 1, 0, 1],\n",
              "       [1, 1, 1, 1, 1]])"
            ]
          },
          "metadata": {
            "tags": []
          },
          "execution_count": 3
        }
      ]
    },
    {
      "cell_type": "code",
      "metadata": {
        "id": "I3x4Hx4dSxQH",
        "colab_type": "code",
        "outputId": "77aad07b-98e4-4d0e-e24b-ea0df6e9545f",
        "colab": {
          "base_uri": "https://localhost:8080/",
          "height": 308
        }
      },
      "source": [
        "y"
      ],
      "execution_count": 0,
      "outputs": [
        {
          "output_type": "execute_result",
          "data": {
            "text/plain": [
              "array([[0, 0],\n",
              "       [0, 1],\n",
              "       [1, 0],\n",
              "       [1, 1],\n",
              "       [0, 1],\n",
              "       [0, 0],\n",
              "       [1, 1],\n",
              "       [1, 0],\n",
              "       [1, 0],\n",
              "       [1, 1],\n",
              "       [0, 0],\n",
              "       [0, 1],\n",
              "       [1, 1],\n",
              "       [1, 0],\n",
              "       [0, 1],\n",
              "       [0, 0]])"
            ]
          },
          "metadata": {
            "tags": []
          },
          "execution_count": 4
        }
      ]
    },
    {
      "cell_type": "code",
      "metadata": {
        "id": "tIzAhbtfS0sb",
        "colab_type": "code",
        "colab": {}
      },
      "source": [
        "def sigm(x):\n",
        "  return 1.0/(1+np.exp(-x))\n",
        "\n",
        "def sigm_back(a):\n",
        "  return np.multiply(a, 1.0-a)"
      ],
      "execution_count": 0,
      "outputs": []
    },
    {
      "cell_type": "code",
      "metadata": {
        "id": "JLaz_WkbTiI5",
        "colab_type": "code",
        "colab": {}
      },
      "source": [
        "def init_weights(input_n=5, output_n=2, units=6):\n",
        "  w1 = np.random.rand(units, input_n) #layer 1 randomized weights\n",
        "  w2 = np.random.rand(output_n, units) #layer 2 randomized weights\n",
        "  b1 = np.zeros((1, units)) #bias of layer 1\n",
        "  b2 = np.zeros((1, output_n)) # bias of layer 2\n",
        "  \n",
        "  return w1, w2, b1, b2\n",
        "\n",
        "def forward_propagation(x, w1, w2, b1, b2):\n",
        "  m1 = np.dot(x, w1.T) + b1\n",
        "  n1 = sigm(m1)\n",
        "  m2 = np.dot(n1, w2.T) + b2\n",
        "  n2 = sigm(m2)\n",
        "  \n",
        "  return n1, n2\n",
        "\n",
        "def log_loss(n2, y):\n",
        "  m = len(y)\n",
        "  loss = -1.0/m * np.sum(np.multiply(y, np.log(n2)) + np.multiply(1.0-y, np.log(1-n2)))\n",
        "  return loss\n",
        "\n",
        "def back_propagation(x, y, n1, n2, w1, w2):\n",
        "  m = len(y)\n",
        "  da2 = -1.0 * (np.divide(y, n2)-np.divide(1-y, 1-n2))\n",
        "  dz2 = np.multiply(da2,sigm_back(n2))\n",
        "  dw2 = (1.0/m)*np.dot(dz2.T,n1) \n",
        "  db2 = (1.0/m)*np.sum(dz2)\n",
        "  da1 = np.dot(dz2,w2)\n",
        "  dz1 = np.multiply(da1,sigm_back(n1))\n",
        "  dw1 = (1.0/m)*np.dot(dz1.T,x) \n",
        "  db1 = (1.0/m)*np.sum(dz1)\n",
        "  \n",
        "  return dw1, db1, dw2, db2\n",
        "\n",
        "def train(x, y, iterations = 10000, lr = 0.9):\n",
        "  w1, w2, b1, b2 = init_weights()\n",
        "  \n",
        "  #the training loop\n",
        "  for i in range(iterations):\n",
        "    n1, n2 = forward_propagation(x, w1, w2, b1, b2)\n",
        "    loss = log_loss(n2, y)\n",
        "    dw1, db1, dw2, db2 = back_propagation(x, y, n1, n2, w1, w2)\n",
        "    \n",
        "    w1 = w1-lr*dw1\n",
        "    w2 = w2-lr*dw2\n",
        "    b1 = b1-lr*db1\n",
        "    b2 = b2-lr*db2\n",
        "    \n",
        "    if i % 1000==0:\n",
        "      print(\"iteration = %d, loss = %0.3f\" %(i, loss))\n",
        "    \n",
        "  return w1, w2, b1, b2, loss"
      ],
      "execution_count": 0,
      "outputs": []
    },
    {
      "cell_type": "code",
      "metadata": {
        "id": "MYMXnGePYw2W",
        "colab_type": "code",
        "outputId": "6d94b256-baf3-4bc1-c3e0-7bf9afd47768",
        "colab": {
          "base_uri": "https://localhost:8080/",
          "height": 199
        }
      },
      "source": [
        "w1, w2, b1, b2, loss = train(x, y)"
      ],
      "execution_count": 0,
      "outputs": [
        {
          "output_type": "stream",
          "text": [
            "iteration = 0, loss = 2.182\n",
            "iteration = 1000, loss = 0.034\n",
            "iteration = 2000, loss = 0.012\n",
            "iteration = 3000, loss = 0.007\n",
            "iteration = 4000, loss = 0.005\n",
            "iteration = 5000, loss = 0.004\n",
            "iteration = 6000, loss = 0.003\n",
            "iteration = 7000, loss = 0.003\n",
            "iteration = 8000, loss = 0.002\n",
            "iteration = 9000, loss = 0.002\n"
          ],
          "name": "stdout"
        }
      ]
    },
    {
      "cell_type": "code",
      "metadata": {
        "id": "eVzyrO9YY2WD",
        "colab_type": "code",
        "colab": {}
      },
      "source": [
        "def predict(x, w1, w2, b1, b2):\n",
        "  pred, k = forward_propagation(x, w1, w2, b1, b2)\n",
        "  for i in range(len(pred)):\n",
        "    if pred[i]>0.5:\n",
        "      pred[i] = 1\n",
        "    else:\n",
        "      pred[i] = 0\n",
        "  return pred"
      ],
      "execution_count": 0,
      "outputs": []
    },
    {
      "cell_type": "code",
      "metadata": {
        "id": "dTOK7cdfcTyp",
        "colab_type": "code",
        "colab": {}
      },
      "source": [
        ""
      ],
      "execution_count": 0,
      "outputs": []
    }
  ]
}